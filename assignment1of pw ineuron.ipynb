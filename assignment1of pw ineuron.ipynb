{
 "cells": [
  {
   "cell_type": "code",
   "execution_count": 1,
   "id": "b5e84592-53be-4617-9e4b-06822c8268c8",
   "metadata": {},
   "outputs": [],
   "source": [
    "# string = a string is a swquence of characters such as letters,digits,symbols,or whitespace.    uch as\n",
    "  # strings are immutable "
   ]
  },
  {
   "cell_type": "code",
   "execution_count": 2,
   "id": "2042d4a1-9e4a-4a16-a415-132aa9ca2ec7",
   "metadata": {},
   "outputs": [],
   "source": [
    "my_string = \"Hello world\""
   ]
  },
  {
   "cell_type": "code",
   "execution_count": 3,
   "id": "ec4555fc-1556-4fe7-995b-3b8307902ffe",
   "metadata": {},
   "outputs": [
    {
     "name": "stdout",
     "output_type": "stream",
     "text": [
      "Hello world\n"
     ]
    }
   ],
   "source": [
    "print(my_string)"
   ]
  },
  {
   "cell_type": "code",
   "execution_count": 4,
   "id": "a437c8d6-c375-48aa-b374-a05348f23cfe",
   "metadata": {},
   "outputs": [
    {
     "data": {
      "text/plain": [
       "str"
      ]
     },
     "execution_count": 4,
     "metadata": {},
     "output_type": "execute_result"
    }
   ],
   "source": [
    "type(my_string)"
   ]
  },
  {
   "cell_type": "code",
   "execution_count": 5,
   "id": "e4209abc-66a0-4b21-ae05-c63db8e604e2",
   "metadata": {},
   "outputs": [],
   "source": [
    "# list =  a list is a data structure that represents an ordered collection of elements. It is a versatile and widely used data structure available in most programming languages. A list allows you to store multiple values of different data types, such as numbers, strings, or even other lists, within a single variable.\n"
   ]
  },
  {
   "cell_type": "code",
   "execution_count": 6,
   "id": "39386571-1102-4152-8457-245568698b4c",
   "metadata": {},
   "outputs": [],
   "source": [
    "my_list = [1,2,3,4,5,]"
   ]
  },
  {
   "cell_type": "code",
   "execution_count": 7,
   "id": "f492e063-6fe7-46f5-a6d0-e1f52f5fb080",
   "metadata": {},
   "outputs": [
    {
     "name": "stdout",
     "output_type": "stream",
     "text": [
      "[1, 2, 3, 4, 5]\n"
     ]
    }
   ],
   "source": [
    "print(my_list)"
   ]
  },
  {
   "cell_type": "code",
   "execution_count": 8,
   "id": "2b413b29-9e11-45ad-9ded-8e41ef8af1ea",
   "metadata": {},
   "outputs": [
    {
     "data": {
      "text/plain": [
       "list"
      ]
     },
     "execution_count": 8,
     "metadata": {},
     "output_type": "execute_result"
    }
   ],
   "source": [
    "type(my_list)"
   ]
  },
  {
   "cell_type": "code",
   "execution_count": 9,
   "id": "cb429bc6-55d6-43dc-a659-58ffdf2171a7",
   "metadata": {},
   "outputs": [],
   "source": [
    "# float =  a float (short for \"floating-point number\") is a data type used to represent decimal numbers with a fractional component. It is used to store and perform calculations on real numbers that can have both integer and fractional parts.\n"
   ]
  },
  {
   "cell_type": "code",
   "execution_count": 10,
   "id": "8092cb28-7436-432b-b491-68395b3339df",
   "metadata": {},
   "outputs": [],
   "source": [
    "my_float = 3.14"
   ]
  },
  {
   "cell_type": "code",
   "execution_count": 11,
   "id": "efd79bf0-5b08-49c6-8edb-5ba97add6125",
   "metadata": {},
   "outputs": [
    {
     "name": "stdout",
     "output_type": "stream",
     "text": [
      "3.14\n"
     ]
    }
   ],
   "source": [
    "print(my_float)"
   ]
  },
  {
   "cell_type": "code",
   "execution_count": 12,
   "id": "e58d9ef0-6bf7-428b-a244-96db14a3f7b5",
   "metadata": {},
   "outputs": [
    {
     "data": {
      "text/plain": [
       "float"
      ]
     },
     "execution_count": 12,
     "metadata": {},
     "output_type": "execute_result"
    }
   ],
   "source": [
    "type(my_float)"
   ]
  },
  {
   "cell_type": "code",
   "execution_count": 13,
   "id": "453a1502-6142-4829-934a-5672616e822e",
   "metadata": {},
   "outputs": [],
   "source": [
    "# tuple = a tuple is an ordered collection of elements that can be of different data types. It is similar to a list but has a key distinction: tuples are immutable, meaning they cannot be modified once created\n"
   ]
  },
  {
   "cell_type": "code",
   "execution_count": 14,
   "id": "673c5b9f-3575-4565-9d24-8ab5e61362f8",
   "metadata": {},
   "outputs": [],
   "source": [
    "my_tuple = (1,2,3,\"Hello\",2.30,True)"
   ]
  },
  {
   "cell_type": "code",
   "execution_count": 16,
   "id": "b07e6dfb-4ed7-48a2-ac1d-d152f92f8078",
   "metadata": {},
   "outputs": [
    {
     "name": "stdout",
     "output_type": "stream",
     "text": [
      "(1, 2, 3, 'Hello', 2.3, True)\n"
     ]
    }
   ],
   "source": [
    "print(my_tuple)"
   ]
  },
  {
   "cell_type": "code",
   "execution_count": 17,
   "id": "64d03d09-0d87-41b6-96de-f8325220873d",
   "metadata": {},
   "outputs": [
    {
     "data": {
      "text/plain": [
       "tuple"
      ]
     },
     "execution_count": 17,
     "metadata": {},
     "output_type": "execute_result"
    }
   ],
   "source": [
    "type(my_tuple)"
   ]
  },
  {
   "cell_type": "code",
   "execution_count": null,
   "id": "94eccacf-3924-490b-b638-138dd50c30a9",
   "metadata": {},
   "outputs": [],
   "source": [
    "#var1 = '': The data type of var1 is a string. It is an empty string.\n",
    "#var2 = '['DS','ML', 'python']': The data type of var2 is a string. It is a string containing characters, including square brackets and commas.\n",
    "#var3 = ['DS','ML','python']: The data type of var3 is a list. It is a list containing three string elements: 'DS', 'ML', and 'python'.\n",
    "#var4 = 1.0: The data type of var4 is a float. It is a floating-point number representing the value 1.0.\n"
   ]
  },
  {
   "cell_type": "code",
   "execution_count": 19,
   "id": "823b2669-f1b0-4d35-bb88-9eb32664ef38",
   "metadata": {},
   "outputs": [],
   "source": [
    "#var1: string\n",
    "#var2: string\n",
    "#var3: list\n",
    "#var4: float"
   ]
  },
  {
   "cell_type": "code",
   "execution_count": 20,
   "id": "478b3c9b-cad0-45ff-8187-3ab33c92f1ff",
   "metadata": {},
   "outputs": [
    {
     "name": "stdout",
     "output_type": "stream",
     "text": [
      "3.3333333333333335\n"
     ]
    }
   ],
   "source": [
    "# /  (Division Operator): The division operator is used to divide one number by another and obtain the quotient or result of the division.\n",
    "result = 10 / 3\n",
    "print(result)\n"
   ]
  },
  {
   "cell_type": "code",
   "execution_count": 21,
   "id": "7fe2b0f1-92d6-47e4-9edc-e1dba0254ee9",
   "metadata": {},
   "outputs": [
    {
     "name": "stdout",
     "output_type": "stream",
     "text": [
      "3.0\n"
     ]
    }
   ],
   "source": [
    "# % (Modulo Operator): The modulo operator calculates the remainder when one number is divided by another.\n",
    "remainder = 12/4\n",
    "print(remainder)\n"
   ]
  },
  {
   "cell_type": "code",
   "execution_count": 22,
   "id": "ddc94672-db68-41ab-b884-198d4964bf94",
   "metadata": {},
   "outputs": [
    {
     "name": "stdout",
     "output_type": "stream",
     "text": [
      "3\n"
     ]
    }
   ],
   "source": [
    "#// (Floor Division Operator): The floor division operator performs division and rounds down the result to the nearest whole number (integer).\n",
    "result = 10//3\n",
    "print(result)"
   ]
  },
  {
   "cell_type": "code",
   "execution_count": 23,
   "id": "10c71bd4-74f6-41d5-bb50-d10d462b89f2",
   "metadata": {},
   "outputs": [
    {
     "name": "stdout",
     "output_type": "stream",
     "text": [
      "8\n"
     ]
    }
   ],
   "source": [
    "#** (Exponentiation Operator): The exponentiation operator raises a number to the power of another number.\n",
    "result = 2**3\n",
    "print(result)"
   ]
  },
  {
   "cell_type": "code",
   "execution_count": 24,
   "id": "aa25c3cd-6748-4d51-a9c5-3491c5caefb8",
   "metadata": {},
   "outputs": [],
   "source": [
    "my_list = [1,'Hello',3.14,True,[1,2,3,4],{'name':'rohan','age':25,'city':'Delhi'}]"
   ]
  },
  {
   "cell_type": "code",
   "execution_count": 25,
   "id": "9eda3fc6-363a-40ed-a09d-40c3bdfbf309",
   "metadata": {},
   "outputs": [
    {
     "name": "stdout",
     "output_type": "stream",
     "text": [
      "[1, 'Hello', 3.14, True, [1, 2, 3, 4], {'name': 'rohan', 'age': 25, 'city': 'Delhi'}]\n"
     ]
    }
   ],
   "source": [
    "print(my_list)"
   ]
  },
  {
   "cell_type": "code",
   "execution_count": 28,
   "id": "91583b96-e426-4680-aedd-cf8075f90a60",
   "metadata": {},
   "outputs": [
    {
     "name": "stdout",
     "output_type": "stream",
     "text": [
      "The number is divisible by B 2 times.\n"
     ]
    }
   ],
   "source": [
    "A = 100 # Dividend\n",
    "B = 5   # Divisor\n",
    "count = 0\n",
    "while A % B == 0:\n",
    "    A = A // B    #perform integer division\n",
    "    count += 1\n",
    "print(f\"The number is divisible by B {count} times.\")"
   ]
  },
  {
   "cell_type": "code",
   "execution_count": 1,
   "id": "aa3009c0-5cf8-4efd-be89-0427dc9e4e46",
   "metadata": {},
   "outputs": [
    {
     "name": "stdout",
     "output_type": "stream",
     "text": [
      "1 is not divisible by 3\n",
      "2 is not divisible by 3\n",
      "3 is divisible by 3\n",
      "4 is not divisible by 3\n",
      "5 is not divisible by 3\n",
      "6 is divisible by 3\n",
      "7 is not divisible by 3\n",
      "8 is not divisible by 3\n",
      "9 is divisible by 3\n",
      "10 is not divisible by 3\n",
      "11 is not divisible by 3\n",
      "12 is divisible by 3\n",
      "13 is not divisible by 3\n",
      "14 is not divisible by 3\n",
      "15 is divisible by 3\n",
      "16 is not divisible by 3\n",
      "17 is not divisible by 3\n",
      "18 is divisible by 3\n",
      "19 is not divisible by 3\n",
      "20 is not divisible by 3\n",
      "21 is divisible by 3\n",
      "22 is not divisible by 3\n",
      "23 is not divisible by 3\n",
      "24 is divisible by 3\n",
      "25 is not divisible by 3\n"
     ]
    }
   ],
   "source": [
    "# Create an empty list\n",
    "numbers = []\n",
    "\n",
    "# Populate the list with 25 integers\n",
    "for i in range(1, 26):\n",
    "    numbers.append(i)\n",
    "\n",
    "# Check if each element is divisible by 3 or not\n",
    "for number in numbers:\n",
    "    if number % 3 == 0:\n",
    "        print(f\"{number} is divisible by 3\")\n",
    "    else:\n",
    "        print(f\"{number} is not divisible by 3\")\n"
   ]
  },
  {
   "cell_type": "code",
   "execution_count": 2,
   "id": "90900ea9-92aa-494e-9033-d54c9f6c3d6a",
   "metadata": {},
   "outputs": [
    {
     "name": "stdout",
     "output_type": "stream",
     "text": [
      "5\n",
      "10\n",
      "Alice\n",
      "Bob\n",
      "(3, 4)\n"
     ]
    },
    {
     "ename": "TypeError",
     "evalue": "'tuple' object does not support item assignment",
     "output_type": "error",
     "traceback": [
      "\u001b[0;31m---------------------------------------------------------------------------\u001b[0m",
      "\u001b[0;31mTypeError\u001b[0m                                 Traceback (most recent call last)",
      "Cell \u001b[0;32mIn[2], line 14\u001b[0m\n\u001b[1;32m     12\u001b[0m point \u001b[38;5;241m=\u001b[39m (\u001b[38;5;241m3\u001b[39m, \u001b[38;5;241m4\u001b[39m)\n\u001b[1;32m     13\u001b[0m \u001b[38;5;28mprint\u001b[39m(point)  \u001b[38;5;66;03m# Output: (3, 4)\u001b[39;00m\n\u001b[0;32m---> 14\u001b[0m \u001b[43mpoint\u001b[49m\u001b[43m[\u001b[49m\u001b[38;5;241;43m0\u001b[39;49m\u001b[43m]\u001b[49m \u001b[38;5;241m=\u001b[39m \u001b[38;5;241m5\u001b[39m  \u001b[38;5;66;03m# This will raise an error since tuples are immutable\u001b[39;00m\n",
      "\u001b[0;31mTypeError\u001b[0m: 'tuple' object does not support item assignment"
     ]
    }
   ],
   "source": [
    "# Immutable data types\n",
    "x = 5\n",
    "print(x)  # Output: 5\n",
    "x = 10\n",
    "print(x)  # Output: 10\n",
    "\n",
    "name = \"Alice\"\n",
    "print(name)  # Output: Alice\n",
    "name = \"Bob\"\n",
    "print(name)  # Output: Bob\n",
    "\n",
    "point = (3, 4)\n",
    "print(point)  # Output: (3, 4)\n",
    "point[0] = 5  # This will raise an error since tuples are immutable\n"
   ]
  },
  {
   "cell_type": "code",
   "execution_count": 3,
   "id": "2b85a3ea-66e6-4b09-b935-2e03e72abbf7",
   "metadata": {},
   "outputs": [
    {
     "name": "stdout",
     "output_type": "stream",
     "text": [
      "[1, 2, 3, 4, 5]\n",
      "[10, 2, 3, 4, 5]\n",
      "{'name': 'Alice', 'age': 25}\n",
      "{'name': 'Alice', 'age': 30}\n",
      "{'apple', 'orange', 'banana'}\n",
      "{'apple', 'orange', 'pear', 'banana'}\n"
     ]
    }
   ],
   "source": [
    "# Mutable data types\n",
    "numbers = [1, 2, 3, 4, 5]\n",
    "print(numbers)  # Output: [1, 2, 3, 4, 5]\n",
    "numbers[0] = 10\n",
    "print(numbers)  # Output: [10, 2, 3, 4, 5]\n",
    "\n",
    "person = {'name': 'Alice', 'age': 25}\n",
    "print(person)  # Output: {'name': 'Alice', 'age': 25}\n",
    "person['age'] = 30\n",
    "print(person)  # Output: {'name': 'Alice', 'age': 30}\n",
    "\n",
    "fruits = {'apple', 'banana', 'orange'}\n",
    "print(fruits)  # Output: {'apple', 'banana', 'orange'}\n",
    "fruits.add('pear')\n",
    "print(fruits)  # Output: {'apple', 'banana', 'orange', 'pear'}\n"
   ]
  },
  {
   "cell_type": "code",
   "execution_count": null,
   "id": "8078a078-880e-4cdb-a5f9-1bb99b2dbc0e",
   "metadata": {},
   "outputs": [],
   "source": []
  }
 ],
 "metadata": {
  "kernelspec": {
   "display_name": "Python 3 (ipykernel)",
   "language": "python",
   "name": "python3"
  },
  "language_info": {
   "codemirror_mode": {
    "name": "ipython",
    "version": 3
   },
   "file_extension": ".py",
   "mimetype": "text/x-python",
   "name": "python",
   "nbconvert_exporter": "python",
   "pygments_lexer": "ipython3",
   "version": "3.10.8"
  }
 },
 "nbformat": 4,
 "nbformat_minor": 5
}
